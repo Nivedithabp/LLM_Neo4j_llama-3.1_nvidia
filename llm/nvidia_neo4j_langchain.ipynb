{
  "nbformat": 4,
  "nbformat_minor": 0,
  "metadata": {
    "colab": {
      "provenance": [],
      "include_colab_link": true
    },
    "kernelspec": {
      "name": "python3",
      "display_name": "Python 3"
    },
    "language_info": {
      "name": "python"
    }
  },
  "cells": [
    {
      "cell_type": "markdown",
      "metadata": {
        "id": "view-in-github",
        "colab_type": "text"
      },
      "source": [
        "<a href=\"https://colab.research.google.com/github/Nivedithabp/LLM_Neo4j_llama-3.1_nvidia/blob/main/llm/nvidia_neo4j_langchain.ipynb\" target=\"_parent\"><img src=\"https://colab.research.google.com/assets/colab-badge.svg\" alt=\"Open In Colab\"/></a>"
      ]
    },
    {
      "cell_type": "code",
      "execution_count": 1,
      "metadata": {
        "colab": {
          "base_uri": "https://localhost:8080/"
        },
        "id": "PBS17Sk9iXcH",
        "outputId": "cebb5ee9-9d48-486e-92e6-9316eaa6a773"
      },
      "outputs": [
        {
          "output_type": "stream",
          "name": "stdout",
          "text": [
            "\u001b[2K     \u001b[90m━━━━━━━━━━━━━━━━━━━━━━━━━━━━━━━━━━━━━━━━\u001b[0m \u001b[32m50.4/50.4 kB\u001b[0m \u001b[31m1.3 MB/s\u001b[0m eta \u001b[36m0:00:00\u001b[0m\n",
            "\u001b[2K   \u001b[90m━━━━━━━━━━━━━━━━━━━━━━━━━━━━━━━━━━━━━━━━\u001b[0m \u001b[32m2.3/2.3 MB\u001b[0m \u001b[31m29.7 MB/s\u001b[0m eta \u001b[36m0:00:00\u001b[0m\n",
            "\u001b[2K   \u001b[90m━━━━━━━━━━━━━━━━━━━━━━━━━━━━━━━━━━━━━━━━\u001b[0m \u001b[32m293.6/293.6 kB\u001b[0m \u001b[31m14.1 MB/s\u001b[0m eta \u001b[36m0:00:00\u001b[0m\n",
            "\u001b[2K   \u001b[90m━━━━━━━━━━━━━━━━━━━━━━━━━━━━━━━━━━━━━━━━\u001b[0m \u001b[32m393.9/393.9 kB\u001b[0m \u001b[31m19.5 MB/s\u001b[0m eta \u001b[36m0:00:00\u001b[0m\n",
            "\u001b[2K   \u001b[90m━━━━━━━━━━━━━━━━━━━━━━━━━━━━━━━━━━━━━━━━\u001b[0m \u001b[32m997.8/997.8 kB\u001b[0m \u001b[31m35.4 MB/s\u001b[0m eta \u001b[36m0:00:00\u001b[0m\n",
            "\u001b[2K   \u001b[90m━━━━━━━━━━━━━━━━━━━━━━━━━━━━━━━━━━━━━━━━\u001b[0m \u001b[32m149.0/149.0 kB\u001b[0m \u001b[31m8.9 MB/s\u001b[0m eta \u001b[36m0:00:00\u001b[0m\n",
            "\u001b[2K   \u001b[90m━━━━━━━━━━━━━━━━━━━━━━━━━━━━━━━━━━━━━━━━\u001b[0m \u001b[32m4.5/4.5 MB\u001b[0m \u001b[31m56.6 MB/s\u001b[0m eta \u001b[36m0:00:00\u001b[0m\n",
            "\u001b[2K   \u001b[90m━━━━━━━━━━━━━━━━━━━━━━━━━━━━━━━━━━━━━━━━\u001b[0m \u001b[32m75.6/75.6 kB\u001b[0m \u001b[31m4.3 MB/s\u001b[0m eta \u001b[36m0:00:00\u001b[0m\n",
            "\u001b[2K   \u001b[90m━━━━━━━━━━━━━━━━━━━━━━━━━━━━━━━━━━━━━━━━\u001b[0m \u001b[32m77.9/77.9 kB\u001b[0m \u001b[31m4.5 MB/s\u001b[0m eta \u001b[36m0:00:00\u001b[0m\n",
            "\u001b[2K   \u001b[90m━━━━━━━━━━━━━━━━━━━━━━━━━━━━━━━━━━━━━━━━\u001b[0m \u001b[32m49.3/49.3 kB\u001b[0m \u001b[31m2.5 MB/s\u001b[0m eta \u001b[36m0:00:00\u001b[0m\n",
            "\u001b[2K   \u001b[90m━━━━━━━━━━━━━━━━━━━━━━━━━━━━━━━━━━━━━━━━\u001b[0m \u001b[32m141.9/141.9 kB\u001b[0m \u001b[31m7.3 MB/s\u001b[0m eta \u001b[36m0:00:00\u001b[0m\n",
            "\u001b[2K   \u001b[90m━━━━━━━━━━━━━━━━━━━━━━━━━━━━━━━━━━━━━━━━\u001b[0m \u001b[32m58.3/58.3 kB\u001b[0m \u001b[31m2.8 MB/s\u001b[0m eta \u001b[36m0:00:00\u001b[0m\n",
            "\u001b[?25h"
          ]
        }
      ],
      "source": [
        "!pip install --upgrade --quiet langchain-nvidia-ai-endpoints langchain-community neo4j langchain-core"
      ]
    },
    {
      "cell_type": "code",
      "source": [
        "import os\n",
        "from typing import Any, Dict, List, Optional, Tuple, Type\n",
        "\n",
        "from langchain_community.graphs import Neo4jGraph\n",
        "from langchain_community.vectorstores.neo4j_vector import remove_lucene_chars\n",
        "from langchain_core.tools import tool\n",
        "from langchain_nvidia_ai_endpoints import ChatNVIDIA\n",
        "\n",
        "from langchain.agents import AgentExecutor\n",
        "from langchain.agents.format_scratchpad import \\\n",
        "    format_to_openai_function_messages\n",
        "from langchain.agents.output_parsers.openai_tools import \\\n",
        "    OpenAIToolsAgentOutputParser\n",
        "from langchain.callbacks.manager import (AsyncCallbackManagerForToolRun,\n",
        "                                         CallbackManagerForToolRun)\n",
        "from langchain.prompts import ChatPromptTemplate, MessagesPlaceholder\n",
        "from langchain.pydantic_v1 import BaseModel, Field\n",
        "from langchain.schema import AIMessage, HumanMessage\n",
        "from langchain.tools import BaseTool\n",
        "from langchain.tools.render import format_tool_to_openai_function"
      ],
      "metadata": {
        "id": "JMIjgBS-2lWj"
      },
      "execution_count": 3,
      "outputs": []
    },
    {
      "cell_type": "code",
      "source": [
        "os.environ[\"NEO4J_URI\"] = \"bolt://3.228.0.76:7687\"\n",
        "os.environ[\"NEO4J_USERNAME\"] = \"neo4j\"\n",
        "os.environ[\"NEO4J_PASSWORD\"] = \"concern-ease-compiler\"\n",
        "\n",
        "graph = Neo4jGraph(refresh_schema=False)"
      ],
      "metadata": {
        "id": "67TCB9920Sqq"
      },
      "execution_count": 18,
      "outputs": []
    },
    {
      "cell_type": "code",
      "source": [
        "os.environ[\"NVIDIA_API_KEY\"] = \"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\"\n",
        "llm = ChatNVIDIA(model=\"meta/llama-3.1-405b-instruct\")"
      ],
      "metadata": {
        "id": "jnSoDL_G03ly"
      },
      "execution_count": 19,
      "outputs": []
    },
    {
      "cell_type": "code",
      "source": [
        "result = llm.invoke(\"How to use LLMs in combination with Graph Databases? Be concise!\")\n",
        "print(result.content)"
      ],
      "metadata": {
        "id": "q51qmiTktolt",
        "outputId": "d0bda2d7-0654-48df-e75d-2169777bea7f",
        "colab": {
          "base_uri": "https://localhost:8080/"
        }
      },
      "execution_count": 20,
      "outputs": [
        {
          "output_type": "stream",
          "name": "stdout",
          "text": [
            "Using Large Language Models (LLMs) with graph databases can be a powerful combination for knowledge graph-based applications, such as question answering, recommender systems, and knowledge discovery. Here's a concise overview of how to combine LLMs with graph databases:\n",
            "\n",
            "**Architecture:**\n",
            "\n",
            "1. **Knowledge Graph Construction**: Build a graph database (e.g., Neo4j, Amazon Neptune) by integrating data from various sources.\n",
            "2. **LLM Integration**: Use an LLM (e.g., BERT, RoBERTa) to generate node embeddings, which capture the semantic meaning of nodes in the graph.\n",
            "3. **Query Processing**: When a query is issued, use the LLM to generate a query embedding.\n",
            "4. **Graph Search**: Use the query embedding to search the graph database, retrieving relevant nodes and their relationships.\n",
            "\n",
            "**Example Use Cases:**\n",
            "\n",
            "1. **Question Answering**: Use an LLM to generate a query embedding for a natural language question, and then search the graph database for answers.\n",
            "2. **Recommender Systems**: Use an LLM to generate user and item embeddings, and then search the graph database for recommended items.\n",
            "3. **Knowledge Discovery**: Use an LLM to identify relationships between nodes in the graph database, and then use graph algorithms (e.g., PageRank, community detection) to uncover new insights.\n",
            "\n",
            "**Benefits:**\n",
            "\n",
            "1. **Improved Query Performance**: LLMs can capture nuances in natural language queries, leading to better search results.\n",
            "2. **Enhanced Knowledge Representation**: LLMs can generate rich node embeddings, enabling more accurate knowledge graph-based applications.\n",
            "3. **Increased Scalability**: Graph databases can handle large amounts of data, while LLMs can process queries efficiently.\n",
            "\n",
            "**Challenges:**\n",
            "\n",
            "1. **Data Quality**: Ensuring high-quality data in the graph database is crucial for accurate LLM performance.\n",
            "2. **Training Complexity**: Training LLMs on graph data can be computationally expensive.\n",
            "3. **Interpretability**: Understanding the decisions made by the LLM-graph database combination can be challenging.\n"
          ]
        }
      ]
    },
    {
      "cell_type": "markdown",
      "source": [
        "The schema centers on the Case node, which links various aspects of a drug safety report, including the drugs involved, reactions experienced, outcomes, and therapies prescribed. Each drug is characterized by whether it is primary, secondary, concomitant, or interacting. Cases are also associated with information about the manufacturer, the age group of the patient, and the source of the report."
      ],
      "metadata": {
        "id": "ZjN6IKBay5o1"
      }
    },
    {
      "cell_type": "code",
      "source": [
        "graph.query(\n",
        "    \"CREATE FULLTEXT INDEX drug IF NOT EXISTS FOR (d:Drug) ON EACH [d.name];\"\n",
        ")\n",
        "graph.query(\n",
        "    \"CREATE FULLTEXT INDEX manufacturer IF NOT EXISTS FOR (d:Manufacturer) ON EACH [d.manufacturerName];\"\n",
        ")"
      ],
      "metadata": {
        "colab": {
          "base_uri": "https://localhost:8080/"
        },
        "id": "RQukw9a34nIY",
        "outputId": "bf3c8451-6d85-4981-aa4f-ad7bd0ab96be"
      },
      "execution_count": 21,
      "outputs": [
        {
          "output_type": "execute_result",
          "data": {
            "text/plain": [
              "[]"
            ]
          },
          "metadata": {},
          "execution_count": 21
        }
      ]
    },
    {
      "cell_type": "code",
      "source": [
        "def generate_full_text_query(input: str) -> str:\n",
        "    \"\"\"\n",
        "    Generate a full-text search query for a given input string.\n",
        "\n",
        "    This function constructs a query string suitable for a full-text search.\n",
        "    It processes the input string by splitting it into words and appending a\n",
        "    similarity threshold (~2) to each word, then combines them using the AND\n",
        "    operator. Useful for mapping movies and people from user questions\n",
        "    to database values, and allows for some misspelings.\n",
        "    \"\"\"\n",
        "    full_text_query = \"\"\n",
        "    words = [el for el in remove_lucene_chars(input).split() if el]\n",
        "    for word in words[:-1]:\n",
        "        full_text_query += f\" {word}~2 AND\"\n",
        "    full_text_query += f\" {words[-1]}~2\"\n",
        "    return full_text_query.strip()\n",
        "\n",
        "\n",
        "candidate_query = \"\"\"\n",
        "CALL db.index.fulltext.queryNodes($index, $fulltextQuery, {limit: $limit})\n",
        "YIELD node\n",
        "RETURN coalesce(node.manufacturerName, node.name) AS candidate,\n",
        "       labels(node)[0] AS label\n",
        "\"\"\"\n",
        "\n",
        "\n",
        "def get_candidates(input: str, type: str, limit: int = 3) -> List[Dict[str, str]]:\n",
        "    \"\"\"\n",
        "    Retrieve a list of candidate entities from database based on the input string.\n",
        "\n",
        "    This function queries the Neo4j database using a full-text search. It takes the\n",
        "    input string, generates a full-text query, and executes this query against the\n",
        "    specified index in the database. The function returns a list of candidates\n",
        "    matching the query, with each candidate being a dictionary containing their name\n",
        "    (or title) and label (either 'Person' or 'Movie').\n",
        "    \"\"\"\n",
        "    ft_query = generate_full_text_query(input)\n",
        "    candidates = graph.query(\n",
        "        candidate_query, {\"fulltextQuery\": ft_query, \"index\": type, \"limit\": limit}\n",
        "    )\n",
        "    return candidates"
      ],
      "metadata": {
        "id": "046n-sfaKge1"
      },
      "execution_count": 22,
      "outputs": []
    },
    {
      "cell_type": "code",
      "source": [
        "@tool\n",
        "def get_side_effects(\n",
        "    drug: Optional[str] = Field(\n",
        "        description=\"disease mentioned in the question. Return None if no mentioned.\"\n",
        "    ),\n",
        "    min_age: Optional[int] = Field(\n",
        "        description=\"Minimum age of the patient. Return None if no mentioned.\"\n",
        "    ),\n",
        "    max_age: Optional[int] = Field(\n",
        "        description=\"Maximum age of the patient. Return None if no mentioned.\"\n",
        "    ),\n",
        "    manufacturer: Optional[str] = Field(\n",
        "        description=\"manufacturer of the drug. Return None if no mentioned.\"\n",
        "    ),\n",
        "):\n",
        "    \"\"\"Useful for when you need to find common side effects.\"\"\"\n",
        "    params = {}\n",
        "    filters = []\n",
        "    side_effects_base_query = \"\"\"\n",
        "    MATCH (c:Case)-[:HAS_REACTION]->(r:Reaction), (c)-[:IS_PRIMARY_SUSPECT]->(d:Drug)\n",
        "    \"\"\"\n",
        "    if drug and isinstance(drug, str):\n",
        "        candidate_drugs = [el[\"candidate\"] for el in get_candidates(drug, \"drug\")]\n",
        "        if not candidate_drugs:\n",
        "            return \"The mentioned drug was not found\"\n",
        "        filters.append(\"d.name IN $drugs\")\n",
        "        params[\"drugs\"] = candidate_drugs\n",
        "\n",
        "    if min_age and isinstance(min_age, int):\n",
        "        filters.append(\"c.age > $min_age \")\n",
        "        params[\"min_age\"] = min_age\n",
        "    if max_age and isinstance(max_age, int):\n",
        "        filters.append(\"c.age < $max_age \")\n",
        "        params[\"max_age\"] = max_age\n",
        "    if manufacturer and isinstance(manufacturer, str):\n",
        "        candidate_manufacturers = [\n",
        "            el[\"candidate\"] for el in get_candidates(manufacturer, \"manufacturer\")\n",
        "        ]\n",
        "        if not candidate_manufacturers:\n",
        "            return \"The mentioned manufacturer was not found\"\n",
        "        filters.append(\n",
        "            \"EXISTS {(c)<-[:REGISTERED]-(:Manufacturer {manufacturerName: $manufacturer})}\"\n",
        "        )\n",
        "        params[\"manufacturer\"] = candidate_manufacturers[0]\n",
        "\n",
        "    if filters:\n",
        "        side_effects_base_query += \" WHERE \"\n",
        "        side_effects_base_query += \" AND \".join(filters)\n",
        "    side_effects_base_query += \"\"\"\n",
        "    RETURN d.name AS drug, r.description AS side_effect, count(*) AS count\n",
        "    ORDER BY count DESC\n",
        "    LIMIT 10\n",
        "    \"\"\"\n",
        "    print(f\"Using parameters: {params}\")\n",
        "    data = graph.query(side_effects_base_query, params=params)\n",
        "    return data"
      ],
      "metadata": {
        "id": "jLyPt3vGUdpz"
      },
      "execution_count": 23,
      "outputs": []
    },
    {
      "cell_type": "code",
      "source": [
        "prompt = ChatPromptTemplate.from_messages(\n",
        "    [\n",
        "        (\n",
        "            \"system\",\n",
        "            \"You are a helpful assistant that finds information about common side effects. \"\n",
        "            \"If tools require follow up questions, \"\n",
        "            \"make sure to ask the user for clarification. Make sure to include any \"\n",
        "            \"available options that need to be clarified in the follow up questions \"\n",
        "            \"Do only the things the user specifically requested. \",\n",
        "        ),\n",
        "        MessagesPlaceholder(variable_name=\"chat_history\"),\n",
        "        (\"user\", \"{input}\"),\n",
        "        MessagesPlaceholder(variable_name=\"agent_scratchpad\"),\n",
        "    ]\n",
        ")\n",
        "\n",
        "def _format_chat_history(chat_history: List[Tuple[str, str]]):\n",
        "    buffer = []\n",
        "    for human, ai in chat_history:\n",
        "        buffer.append(HumanMessage(content=human))\n",
        "        buffer.append(AIMessage(content=ai))\n",
        "    return buffer"
      ],
      "metadata": {
        "id": "_BnUZve2Mokm"
      },
      "execution_count": 24,
      "outputs": []
    },
    {
      "cell_type": "code",
      "source": [
        "tools = [get_side_effects]\n",
        "llm_with_tools = llm.bind_tools(tools=tools)\n",
        "\n",
        "agent = (\n",
        "    {\n",
        "        \"input\": lambda x: x[\"input\"],\n",
        "        \"chat_history\": lambda x: _format_chat_history(x[\"chat_history\"])\n",
        "        if x.get(\"chat_history\")\n",
        "        else [],\n",
        "        \"agent_scratchpad\": lambda x: format_to_openai_function_messages(\n",
        "            x[\"intermediate_steps\"]\n",
        "        ),\n",
        "    }\n",
        "    | prompt\n",
        "    | llm_with_tools\n",
        "    | OpenAIToolsAgentOutputParser()\n",
        ")\n",
        "\n",
        "\n",
        "# Add typing for input\n",
        "class AgentInput(BaseModel):\n",
        "    input: str\n",
        "    chat_history: List[Tuple[str, str]] = Field(\n",
        "        ..., extra={\"widget\": {\"type\": \"chat\", \"input\": \"input\", \"output\": \"output\"}}\n",
        "    )\n",
        "\n",
        "\n",
        "class Output(BaseModel):\n",
        "    output: Any\n",
        "\n",
        "\n",
        "agent_executor = AgentExecutor(agent=agent, tools=tools, verbose=True).with_types(\n",
        "    input_type=AgentInput, output_type=Output\n",
        ")"
      ],
      "metadata": {
        "id": "D8icN7K9O6IT"
      },
      "execution_count": 25,
      "outputs": []
    },
    {
      "cell_type": "code",
      "source": [
        "agent_executor.invoke(\n",
        "    {\n",
        "        \"input\": \"What are the most common side effects when using lyrica for people below 35 years old?\"\n",
        "    }\n",
        ")"
      ],
      "metadata": {
        "colab": {
          "base_uri": "https://localhost:8080/"
        },
        "id": "Gi4IvWKOPocK",
        "outputId": "d531bef2-b90f-499d-de6e-e655688f5228"
      },
      "execution_count": 26,
      "outputs": [
        {
          "output_type": "stream",
          "name": "stdout",
          "text": [
            "\n",
            "\n",
            "\u001b[1m> Entering new AgentExecutor chain...\u001b[0m\n",
            "\u001b[32;1m\u001b[1;3m\n",
            "Invoking: `get_side_effects` with `{'drug': 'lyrica', 'max_age': 35, 'manufacturer': 'Pfizer', 'min_age': 18}`\n",
            "\n",
            "\n",
            "\u001b[0mUsing parameters: {'drugs': ['LYRICA', 'LYRICA CR'], 'min_age': 18, 'max_age': 35, 'manufacturer': 'PFIZER'}\n",
            "\u001b[36;1m\u001b[1;3m[{'drug': 'LYRICA', 'side_effect': 'Sinusitis', 'count': 1}, {'drug': 'LYRICA', 'side_effect': 'Hypoacusis', 'count': 1}, {'drug': 'LYRICA', 'side_effect': 'Fall', 'count': 1}, {'drug': 'LYRICA', 'side_effect': 'Brain injury', 'count': 1}, {'drug': 'LYRICA', 'side_effect': 'Amnesia', 'count': 1}, {'drug': 'LYRICA', 'side_effect': 'Off label use', 'count': 1}, {'drug': 'LYRICA', 'side_effect': 'Impaired quality of life', 'count': 1}, {'drug': 'LYRICA', 'side_effect': 'Somnolence', 'count': 1}, {'drug': 'LYRICA', 'side_effect': 'Drug ineffective for unapproved indication', 'count': 1}]\u001b[0m\u001b[32;1m\u001b[1;3mThe most common side effects of using Lyrica for people below 35 years old are sinusitis, hypoacusis, fall, brain injury, amnesia, off-label use, impaired quality of life, somnolence, and drug ineffective for unapproved indication.\u001b[0m\n",
            "\n",
            "\u001b[1m> Finished chain.\u001b[0m\n"
          ]
        },
        {
          "output_type": "execute_result",
          "data": {
            "text/plain": [
              "{'input': 'What are the most common side effects when using lyrica for people below 35 years old?',\n",
              " 'output': 'The most common side effects of using Lyrica for people below 35 years old are sinusitis, hypoacusis, fall, brain injury, amnesia, off-label use, impaired quality of life, somnolence, and drug ineffective for unapproved indication.'}"
            ]
          },
          "metadata": {},
          "execution_count": 26
        }
      ]
    },
    {
      "cell_type": "code",
      "source": [
        "agent_executor.invoke(\n",
        "    {\n",
        "        \"input\": \"What are the most common side effects when for drugs manufactured by acadia?\"\n",
        "    }\n",
        ")\n"
      ],
      "metadata": {
        "colab": {
          "base_uri": "https://localhost:8080/"
        },
        "id": "8KXmv4hcvKy_",
        "outputId": "fe69cc74-3bb7-4ec1-a6ed-d2f61304f982"
      },
      "execution_count": 27,
      "outputs": [
        {
          "output_type": "stream",
          "name": "stdout",
          "text": [
            "\n",
            "\n",
            "\u001b[1m> Entering new AgentExecutor chain...\u001b[0m\n",
            "\u001b[32;1m\u001b[1;3m\n",
            "Invoking: `get_side_effects` with `{'drug': 'None', 'min_age': 18, 'max_age': 65, 'manufacturer': 'acadia'}`\n",
            "\n",
            "\n",
            "\u001b[0mUsing parameters: {'drugs': ['Carboplatin (Non GSK Comparator)', \"One a day women's\", 'CHLORASEPTIC SORE THROAT'], 'min_age': 18, 'max_age': 65, 'manufacturer': 'ACADIA PHARMACEUTICALS'}\n",
            "\u001b[36;1m\u001b[1;3m[]\u001b[0m\u001b[32;1m\u001b[1;3mI don't have enough information to answer your question. I will need more information to look up which common side effects were reported for drugs that Acadia manufactured. Can you provide the name of the drug or its intended use or anything else that might help me narrow down the results?\u001b[0m\n",
            "\n",
            "\u001b[1m> Finished chain.\u001b[0m\n"
          ]
        },
        {
          "output_type": "execute_result",
          "data": {
            "text/plain": [
              "{'input': 'What are the most common side effects when for drugs manufactured by acadia?',\n",
              " 'output': \"I don't have enough information to answer your question. I will need more information to look up which common side effects were reported for drugs that Acadia manufactured. Can you provide the name of the drug or its intended use or anything else that might help me narrow down the results?\"}"
            ]
          },
          "metadata": {},
          "execution_count": 27
        }
      ]
    },
    {
      "cell_type": "code",
      "source": [],
      "metadata": {
        "id": "_PJqY5fjxslb"
      },
      "execution_count": null,
      "outputs": []
    }
  ]
}